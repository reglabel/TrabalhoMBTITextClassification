{
 "cells": [
  {
   "cell_type": "code",
   "execution_count": 1,
   "id": "00190d72",
   "metadata": {},
   "outputs": [],
   "source": [
    "# Importando bibliotecas básicas\n",
    "import pandas as pd\n",
    "import numpy as np\n",
    "import matplotlib.pyplot as plt\n",
    "import seaborn as sns"
   ]
  },
  {
   "cell_type": "code",
   "execution_count": 2,
   "id": "dfcbeefe",
   "metadata": {},
   "outputs": [],
   "source": [
    "# Lendo o dataset\n",
    "df = pd.read_csv('dataset/MBTI 500.csv')"
   ]
  },
  {
   "cell_type": "code",
   "execution_count": 8,
   "id": "22de2b27",
   "metadata": {},
   "outputs": [
    {
     "name": "stdout",
     "output_type": "stream",
     "text": [
      "0         INTJ\n",
      "1         INTJ\n",
      "2         INTJ\n",
      "3         INTJ\n",
      "4         INTJ\n",
      "          ... \n",
      "106062    INFP\n",
      "106063    INFP\n",
      "106064    INFP\n",
      "106065    INFP\n",
      "106066    INFP\n",
      "Name: type, Length: 106067, dtype: object\n",
      "                                                    posts\n",
      "0       know intj tool use interaction people excuse a...\n",
      "1       rap music ehh opp yeah know valid well know fa...\n",
      "2       preferably p hd low except wew lad video p min...\n",
      "3       drink like wish could drink red wine give head...\n",
      "4       space program ah bad deal meing freelance max ...\n",
      "...                                                   ...\n",
      "106062  stay frustrate world life want take long nap w...\n",
      "106063  fizzle around time mention sure mistake thing ...\n",
      "106064  schedule modify hey w intp strong wing underst...\n",
      "106065  enfj since january busy schedule able spend li...\n",
      "106066  feel like men good problem tell parent want te...\n",
      "\n",
      "[106067 rows x 1 columns]\n"
     ]
    }
   ],
   "source": [
    "y = df['type']\n",
    "print(y)\n",
    "\n",
    "x = df.drop(labels=['type'], axis=1)\n",
    "print(x)"
   ]
  },
  {
   "cell_type": "code",
   "execution_count": 48,
   "id": "1ceacf3d",
   "metadata": {},
   "outputs": [],
   "source": [
    "from sklearn.utils import shuffle\n",
    "\n",
    "qtd = 1000\n",
    "novo_df = shuffle(df)\n",
    "final_df = novo_df[0:qtd]\n",
    "\n",
    "final_df\n",
    "\n",
    "X = final_df['posts'] # features\n",
    "y = final_df['type']  # labels"
   ]
  },
  {
   "cell_type": "code",
   "execution_count": 49,
   "id": "cfc0c039",
   "metadata": {},
   "outputs": [
    {
     "name": "stdout",
     "output_type": "stream",
     "text": [
      "(1000, 22252)\n"
     ]
    }
   ],
   "source": [
    "from sklearn.feature_extraction.text import TfidfVectorizer\n",
    "\n",
    "tf = TfidfVectorizer()\n",
    "X = tf.fit_transform(X)\n",
    "print(X.shape)"
   ]
  },
  {
   "cell_type": "code",
   "execution_count": null,
   "id": "7c4183c7",
   "metadata": {},
   "outputs": [],
   "source": [
    "#from sklearn.preprocessing import LabelEncoder\n",
    "#lb = LabelEncoder()\n",
    "#y = lb.fit_transform(y)"
   ]
  },
  {
   "cell_type": "code",
   "execution_count": 50,
   "id": "6327df6a",
   "metadata": {},
   "outputs": [],
   "source": [
    "from sklearn.model_selection import train_test_split\n",
    "\n",
    "X_train, X_test, y_train, y_test = train_test_split(X, y, test_size=0.2)"
   ]
  },
  {
   "cell_type": "code",
   "execution_count": 74,
   "id": "d91b7a29",
   "metadata": {},
   "outputs": [
    {
     "name": "stdout",
     "output_type": "stream",
     "text": [
      "Fitting 50 folds for each of 100 candidates, totalling 5000 fits\n"
     ]
    },
    {
     "name": "stderr",
     "output_type": "stream",
     "text": [
      "C:\\Users\\regla\\AppData\\Local\\Programs\\Python\\Python39\\lib\\site-packages\\sklearn\\model_selection\\_split.py:676: UserWarning: The least populated class in y has only 1 members, which is less than n_splits=50.\n",
      "  warnings.warn(\n"
     ]
    },
    {
     "data": {
      "text/plain": [
       "GridSearchCV(cv=50, estimator=BernoulliNB(), n_jobs=-1,\n",
       "             param_grid={'alpha': array([1.00000000e-02, 1.09749877e-02, 1.20450354e-02, 1.32194115e-02,\n",
       "       1.45082878e-02, 1.59228279e-02, 1.74752840e-02, 1.91791026e-02,\n",
       "       2.10490414e-02, 2.31012970e-02, 2.53536449e-02, 2.78255940e-02,\n",
       "       3.05385551e-02, 3.35160265e-02, 3.67837977e-02, 4.03701726e-02,\n",
       "       4.43062146e-02, 4.86260158e-02,...\n",
       "       1.17681195e+01, 1.29154967e+01, 1.41747416e+01, 1.55567614e+01,\n",
       "       1.70735265e+01, 1.87381742e+01, 2.05651231e+01, 2.25701972e+01,\n",
       "       2.47707636e+01, 2.71858824e+01, 2.98364724e+01, 3.27454916e+01,\n",
       "       3.59381366e+01, 3.94420606e+01, 4.32876128e+01, 4.75081016e+01,\n",
       "       5.21400829e+01, 5.72236766e+01, 6.28029144e+01, 6.89261210e+01,\n",
       "       7.56463328e+01, 8.30217568e+01, 9.11162756e+01, 1.00000000e+02])},\n",
       "             verbose=1)"
      ]
     },
     "execution_count": 74,
     "metadata": {},
     "output_type": "execute_result"
    }
   ],
   "source": [
    "import sklearn.naive_bayes as nb\n",
    "\n",
    "bnb = ms.GridSearchCV(\n",
    "    nb.BernoulliNB(),\n",
    "    param_grid={'alpha': np.logspace(-2., 2., 100)}, verbose=1, cv=50, n_jobs=-1)\n",
    "bnb.fit(X_train, y_train)"
   ]
  },
  {
   "cell_type": "code",
   "execution_count": 75,
   "id": "44f07cf2",
   "metadata": {},
   "outputs": [
    {
     "data": {
      "text/plain": [
       "0.41"
      ]
     },
     "execution_count": 75,
     "metadata": {},
     "output_type": "execute_result"
    }
   ],
   "source": [
    "bnb.score(X_test, y_test)"
   ]
  },
  {
   "cell_type": "code",
   "execution_count": 67,
   "id": "0f683714",
   "metadata": {},
   "outputs": [
    {
     "name": "stdout",
     "output_type": "stream",
     "text": [
      "['INTP' 'INTP' 'INTP']\n"
     ]
    }
   ],
   "source": [
    "print(bnb.predict(tf.transform([\n",
    "    \"I totally agree with you.\",\n",
    "    \"You are so stupid.\",\n",
    "    \"know intj tool use interaction people excuse a\"\n",
    "])))"
   ]
  },
  {
   "cell_type": "code",
   "execution_count": 70,
   "id": "59508a19",
   "metadata": {},
   "outputs": [],
   "source": [
    "y_pred = bnb.predict(X_test)"
   ]
  },
  {
   "cell_type": "code",
   "execution_count": 72,
   "id": "9aa34761",
   "metadata": {},
   "outputs": [
    {
     "name": "stdout",
     "output_type": "stream",
     "text": [
      "[0.         0.         0.28571429 0.26086957 0.         0.57142857\n",
      " 0.41666667 0.23076923 0.42307692 0.54263566 0.         0.\n",
      " 0.33333333] : is the f1 score\n"
     ]
    }
   ],
   "source": [
    "from sklearn.metrics import f1_score\n",
    "print(f1_score(y_test, y_pred, average=None), \": is the f1 score\")"
   ]
  }
 ],
 "metadata": {
  "kernelspec": {
   "display_name": "Python 3 (ipykernel)",
   "language": "python",
   "name": "python3"
  },
  "language_info": {
   "codemirror_mode": {
    "name": "ipython",
    "version": 3
   },
   "file_extension": ".py",
   "mimetype": "text/x-python",
   "name": "python",
   "nbconvert_exporter": "python",
   "pygments_lexer": "ipython3",
   "version": "3.9.2"
  }
 },
 "nbformat": 4,
 "nbformat_minor": 5
}
