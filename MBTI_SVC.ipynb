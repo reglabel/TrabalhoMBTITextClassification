{
 "cells": [
  {
   "cell_type": "code",
   "execution_count": 28,
   "id": "dd82d8aa",
   "metadata": {},
   "outputs": [],
   "source": [
    "# Importando bibliotecas básicas\n",
    "import pandas as pd\n",
    "import numpy as np\n",
    "import matplotlib.pyplot as plt\n",
    "import seaborn as sns"
   ]
  },
  {
   "cell_type": "code",
   "execution_count": 2,
   "id": "ca12e371",
   "metadata": {},
   "outputs": [],
   "source": [
    "# Lendo o dataset\n",
    "df = pd.read_csv('dataset/MBTI 500.csv')"
   ]
  },
  {
   "cell_type": "code",
   "execution_count": 56,
   "id": "b77ed819",
   "metadata": {},
   "outputs": [],
   "source": [
    "from sklearn.utils import shuffle\n",
    "qtd = 1000\n",
    "novo_df = shuffle(df)\n",
    "final_df = novo_df[0:qtd]\n",
    "\n",
    "X = final_df['posts'] # features\n",
    "y = final_df['type']  # labels"
   ]
  },
  {
   "cell_type": "code",
   "execution_count": 57,
   "id": "34b7fb60",
   "metadata": {},
   "outputs": [],
   "source": [
    "from sklearn.model_selection import train_test_split\n",
    "X_train, X_test, y_train, y_test = train_test_split(X, y, test_size=0.2, random_state=42)"
   ]
  },
  {
   "cell_type": "code",
   "execution_count": 58,
   "id": "c95555e2",
   "metadata": {},
   "outputs": [],
   "source": [
    "from sklearn.feature_extraction.text import TfidfVectorizer\n",
    "from sklearn.svm import LinearSVC\n",
    "from sklearn.pipeline import Pipeline\n",
    "from sklearn import metrics\n",
    "from sklearn.metrics import classification_report, f1_score\n",
    "\n",
    "vectorizer = TfidfVectorizer()"
   ]
  },
  {
   "cell_type": "code",
   "execution_count": 59,
   "id": "8d825564",
   "metadata": {},
   "outputs": [
    {
     "data": {
      "text/plain": [
       "Pipeline(steps=[('tfidf', TfidfVectorizer()), ('clf', LinearSVC())])"
      ]
     },
     "execution_count": 59,
     "metadata": {},
     "output_type": "execute_result"
    }
   ],
   "source": [
    "X_train_tfidf = vectorizer.fit_transform(X_train)\n",
    "\n",
    "clf = LinearSVC()\n",
    "clf.fit(X_train_tfidf, y_train)\n",
    "    \n",
    "\n",
    "text_clf = Pipeline([('tfidf',TfidfVectorizer()),('clf',LinearSVC())])\n",
    "text_clf.fit(X_train, y_train)"
   ]
  },
  {
   "cell_type": "code",
   "execution_count": 60,
   "id": "e3d75fff",
   "metadata": {},
   "outputs": [],
   "source": [
    "predictions = text_clf.predict(X_test)"
   ]
  },
  {
   "cell_type": "code",
   "execution_count": 61,
   "id": "95092644",
   "metadata": {
    "scrolled": true
   },
   "outputs": [
    {
     "name": "stdout",
     "output_type": "stream",
     "text": [
      "              precision    recall  f1-score   support\n",
      "\n",
      "        ENFJ       0.00      0.00      0.00         2\n",
      "        ENFP       0.75      0.43      0.55        14\n",
      "        ENTJ       0.00      0.00      0.00         5\n",
      "        ENTP       0.67      0.44      0.53        27\n",
      "        ESFJ       0.00      0.00      0.00         1\n",
      "        ESTJ       1.00      1.00      1.00         2\n",
      "        ESTP       0.00      0.00      0.00         2\n",
      "        INFJ       0.70      0.56      0.62        25\n",
      "        INFP       0.67      0.80      0.73        20\n",
      "        INTJ       0.58      0.83      0.68        47\n",
      "        INTP       0.59      0.76      0.66        45\n",
      "        ISFJ       0.00      0.00      0.00         1\n",
      "        ISTJ       0.00      0.00      0.00         3\n",
      "        ISTP       1.00      0.33      0.50         6\n",
      "\n",
      "    accuracy                           0.62       200\n",
      "   macro avg       0.43      0.37      0.38       200\n",
      "weighted avg       0.61      0.62      0.60       200\n",
      "\n"
     ]
    },
    {
     "name": "stderr",
     "output_type": "stream",
     "text": [
      "C:\\Users\\regla\\AppData\\Local\\Programs\\Python\\Python39\\lib\\site-packages\\sklearn\\metrics\\_classification.py:1318: UndefinedMetricWarning: Precision and F-score are ill-defined and being set to 0.0 in labels with no predicted samples. Use `zero_division` parameter to control this behavior.\n",
      "  _warn_prf(average, modifier, msg_start, len(result))\n",
      "C:\\Users\\regla\\AppData\\Local\\Programs\\Python\\Python39\\lib\\site-packages\\sklearn\\metrics\\_classification.py:1318: UndefinedMetricWarning: Precision and F-score are ill-defined and being set to 0.0 in labels with no predicted samples. Use `zero_division` parameter to control this behavior.\n",
      "  _warn_prf(average, modifier, msg_start, len(result))\n",
      "C:\\Users\\regla\\AppData\\Local\\Programs\\Python\\Python39\\lib\\site-packages\\sklearn\\metrics\\_classification.py:1318: UndefinedMetricWarning: Precision and F-score are ill-defined and being set to 0.0 in labels with no predicted samples. Use `zero_division` parameter to control this behavior.\n",
      "  _warn_prf(average, modifier, msg_start, len(result))\n"
     ]
    }
   ],
   "source": [
    "print(classification_report(y_test, predictions))"
   ]
  },
  {
   "cell_type": "code",
   "execution_count": 62,
   "id": "17b252e8",
   "metadata": {},
   "outputs": [
    {
     "name": "stdout",
     "output_type": "stream",
     "text": [
      "Overall accuracy of the model: 0.62\n"
     ]
    }
   ],
   "source": [
    "print(f\"Overall accuracy of the model: {round(metrics.accuracy_score(y_test, predictions),2)}\")"
   ]
  },
  {
   "cell_type": "code",
   "execution_count": 63,
   "id": "fc2e0530",
   "metadata": {},
   "outputs": [
    {
     "name": "stdout",
     "output_type": "stream",
     "text": [
      "[0.         0.54545455 0.         0.53333333 0.         1.\n",
      " 0.         0.62222222 0.72727273 0.68421053 0.66019417 0.\n",
      " 0.         0.5       ] : is the f1 score\n"
     ]
    }
   ],
   "source": [
    "from sklearn.metrics import f1_score\n",
    "print(f1_score(y_test, predictions, average=None), \": is the f1 score\")"
   ]
  }
 ],
 "metadata": {
  "kernelspec": {
   "display_name": "Python 3 (ipykernel)",
   "language": "python",
   "name": "python3"
  },
  "language_info": {
   "codemirror_mode": {
    "name": "ipython",
    "version": 3
   },
   "file_extension": ".py",
   "mimetype": "text/x-python",
   "name": "python",
   "nbconvert_exporter": "python",
   "pygments_lexer": "ipython3",
   "version": "3.9.2"
  }
 },
 "nbformat": 4,
 "nbformat_minor": 5
}
